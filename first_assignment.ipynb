{
 "cells": [
  {
   "cell_type": "markdown",
   "id": "2ae58799",
   "metadata": {},
   "source": [
    "BASICS EXERCISES"
   ]
  },
  {
   "cell_type": "code",
   "execution_count": 1,
   "id": "2c376a11",
   "metadata": {},
   "outputs": [
    {
     "name": "stdout",
     "output_type": "stream",
     "text": [
      "Yadav Raj Dahal\n",
      "Tribhuvan University\n",
      "\"Python is powerful!\"\n"
     ]
    }
   ],
   "source": [
    "## 1\n",
    "\n",
    "\n",
    "print(\"Yadav Raj Dahal\")\n",
    "print(\"Tribhuvan University\")\n",
    "print('\"Python is powerful!\"')"
   ]
  },
  {
   "cell_type": "code",
   "execution_count": 2,
   "id": "944a867b",
   "metadata": {},
   "outputs": [
    {
     "name": "stdout",
     "output_type": "stream",
     "text": [
      "1 <class 'int'>\n",
      "3.14 <class 'float'>\n",
      "Hello <class 'str'>\n"
     ]
    }
   ],
   "source": [
    "## 2\n",
    "\n",
    "x = 1\n",
    "y=  3.14\n",
    "z = \"Hello\"\n",
    "\n",
    "print(x,type(x))\n",
    "print(y, type(y))\n",
    "print(z, type(z))"
   ]
  },
  {
   "cell_type": "code",
   "execution_count": null,
   "id": "78453168",
   "metadata": {},
   "outputs": [
    {
     "name": "stdout",
     "output_type": "stream",
     "text": [
      "a= 15.0\n",
      "b= 78.0\n",
      "Sum: 93.0\n",
      "Difference: -63.0\n",
      "Product: 1170.0\n"
     ]
    }
   ],
   "source": [
    "#adding numbers...\n",
    "\n",
    "a = float(input(\"Enter first number: \"))\n",
    "b = float(input(\"Enter second number: \"))\n",
    "\n",
    "print(\"a=\",a)\n",
    "print(\"b=\",b)\n",
    "\n",
    "print(\"Sum:\", a + b)\n",
    "print(\"Difference:\", a-b)\n",
    "print(\"Product:\", a * b)"
   ]
  },
  {
   "cell_type": "code",
   "execution_count": 17,
   "id": "b2d97637",
   "metadata": {},
   "outputs": [
    {
     "name": "stdout",
     "output_type": "stream",
     "text": [
      "n =  25.0\n",
      "Positive\n"
     ]
    }
   ],
   "source": [
    "## checking the number is positive, negative or zero\n",
    "\n",
    "n = float(input(\"Enter any number: \"))\n",
    "\n",
    "print(\"n = \",n)\n",
    "if n > 0:\n",
    "    print(\"Positive\")\n",
    "elif n < 0:\n",
    "    print(\"Negative\")\n",
    "else:\n",
    "    print(\"Zero\")"
   ]
  },
  {
   "cell_type": "code",
   "execution_count": 18,
   "id": "390c8496",
   "metadata": {},
   "outputs": [
    {
     "name": "stdout",
     "output_type": "stream",
     "text": [
      "First fruit: apple\n",
      "Last fruit: mango\n",
      "Updated list: ['apple', 'banana', 'orange', 'grape', 'mango', 'pineapple']\n"
     ]
    }
   ],
   "source": [
    "## Lists\n",
    "\n",
    "\n",
    "fruits = [\"apple\", \"banana\", \"orange\", \"grape\", \"mango\"]\n",
    "\n",
    "## printing  first item\n",
    "print(\"First fruit:\", fruits[0])\n",
    "\n",
    "##printing last item\n",
    "print(\"Last fruit:\", fruits[-1])\n",
    "\n",
    "#adding one more fruit\n",
    "fruits.append(\"pineapple\")\n",
    "print(\"Updated list:\", fruits)\n"
   ]
  },
  {
   "cell_type": "markdown",
   "id": "b2d4facc",
   "metadata": {},
   "source": [
    "LOGIC AND CONTROL FLOW"
   ]
  },
  {
   "cell_type": "code",
   "execution_count": 20,
   "id": "ab363b0c",
   "metadata": {},
   "outputs": [
    {
     "name": "stdout",
     "output_type": "stream",
     "text": [
      "Entered number= 1\n",
      "Odd\n"
     ]
    }
   ],
   "source": [
    "# 1. check if the number is odd or even\n",
    "num = int(input(\"Enter a number: \"))\n",
    "\n",
    "print(\"Entered number=\",num)\n",
    "if num % 2 == 0:\n",
    "    print(\"Even\")\n",
    "else:\n",
    "    print(\"Odd\")"
   ]
  },
  {
   "cell_type": "code",
   "execution_count": null,
   "id": "883cc805",
   "metadata": {},
   "outputs": [
    {
     "name": "stdout",
     "output_type": "stream",
     "text": [
      "1\n",
      "4\n",
      "9\n",
      "16\n",
      "25\n",
      "36\n",
      "49\n",
      "64\n",
      "81\n",
      "100\n"
     ]
    }
   ],
   "source": [
    "#2. using for loop \n",
    "for i in range(1,11):\n",
    "    print(i**2)"
   ]
  },
  {
   "cell_type": "code",
   "execution_count": null,
   "id": "bbd1ad68",
   "metadata": {},
   "outputs": [
    {
     "name": "stdout",
     "output_type": "stream",
     "text": [
      "10\n",
      "9\n",
      "8\n",
      "7\n",
      "6\n",
      "5\n",
      "4\n",
      "3\n",
      "2\n",
      "1\n"
     ]
    }
   ],
   "source": [
    "# 3. using while loop\n",
    "\n",
    "i = 10\n",
    "while i >= 1:\n",
    "    print(i)\n",
    "    i = i -1"
   ]
  },
  {
   "cell_type": "code",
   "execution_count": null,
   "id": "506e8297",
   "metadata": {},
   "outputs": [
    {
     "name": "stdout",
     "output_type": "stream",
     "text": [
      "Acess Granted\n"
     ]
    }
   ],
   "source": [
    "# 4. password \n",
    "\n",
    "password = \"Astro@123\"\n",
    "pass_word = input(\"Enter password\")\n",
    "\n",
    "if pass_word == password:\n",
    "    print(\"Access Granted\")\n",
    "else:\n",
    "    print(\"Access Denied\")\n"
   ]
  },
  {
   "cell_type": "markdown",
   "id": "f909e5c1",
   "metadata": {
    "vscode": {
     "languageId": "bat"
    }
   },
   "source": [
    "INTERMEDIATE PRACTICE"
   ]
  },
  {
   "cell_type": "code",
   "execution_count": 27,
   "id": "64232364",
   "metadata": {},
   "outputs": [
    {
     "name": "stdout",
     "output_type": "stream",
     "text": [
      "Hello,Ram!\n"
     ]
    }
   ],
   "source": [
    "# 1 Greeting using function\n",
    "\n",
    "def greet(name):\n",
    "    print(f\"Hello,{name}!\")\n",
    "\n",
    "greet(\"Ram\")"
   ]
  },
  {
   "cell_type": "code",
   "execution_count": 28,
   "id": "691004cc",
   "metadata": {},
   "outputs": [
    {
     "ename": "TypeError",
     "evalue": "'tuple' object does not support item assignment",
     "output_type": "error",
     "traceback": [
      "\u001b[0;31m---------------------------------------------------------------------------\u001b[0m",
      "\u001b[0;31mTypeError\u001b[0m                                 Traceback (most recent call last)",
      "Cell \u001b[0;32mIn[28], line 4\u001b[0m\n\u001b[1;32m      1\u001b[0m \u001b[38;5;66;03m# 2 tuple modification\u001b[39;00m\n\u001b[1;32m      3\u001b[0m t \u001b[38;5;241m=\u001b[39m (\u001b[38;5;241m2.3\u001b[39m, \u001b[38;5;241m4.4\u001b[39m, \u001b[38;5;241m5.8\u001b[39m)\n\u001b[0;32m----> 4\u001b[0m t[\u001b[38;5;241m1\u001b[39m]\u001b[38;5;241m=\u001b[39m \u001b[38;5;241m1.1\u001b[39m\n",
      "\u001b[0;31mTypeError\u001b[0m: 'tuple' object does not support item assignment"
     ]
    }
   ],
   "source": [
    "# 2 tuple modification\n",
    "\n",
    "t = (2.3, 4.4, 5.8)\n",
    "t[1]= 1.1"
   ]
  },
  {
   "cell_type": "code",
   "execution_count": 31,
   "id": "15b0f1fa",
   "metadata": {},
   "outputs": [
    {
     "name": "stdout",
     "output_type": "stream",
     "text": [
      "name: Yadav Raj Dahal\n",
      "age: 24\n",
      "field: Physics\n"
     ]
    }
   ],
   "source": [
    "# 3. dictionary\n",
    "\n",
    "my_detail = {\n",
    "    \"name\": \"Yadav Raj Dahal\",\n",
    "    \"age\": 24,\n",
    "    \"field\": \"Physics\"\n",
    "}\n",
    "\n",
    "\n",
    "print(\"name:\",my_detail[\"name\"])\n",
    "print(\"age:\",my_detail[\"age\"])\n",
    "print(\"field:\",my_detail[\"field\"])\n"
   ]
  },
  {
   "cell_type": "code",
   "execution_count": 32,
   "id": "96bb4e76",
   "metadata": {},
   "outputs": [
    {
     "name": "stdout",
     "output_type": "stream",
     "text": [
      "The largest number is: 2.0\n"
     ]
    }
   ],
   "source": [
    "# 4. Largest of three numbers\n",
    "a = float(input(\"Enter first number: \"))\n",
    "b = float(input(\"Enter second number: \"))\n",
    "c = float(input(\"Enter third number: \"))\n",
    "\n",
    "if a >= b and a >= c:\n",
    "    largest = a\n",
    "elif b >= a and b >= c:\n",
    "    largest = b\n",
    "else:\n",
    "    largest = c\n",
    "\n",
    "print(\"The largest number is:\", largest)"
   ]
  },
  {
   "cell_type": "code",
   "execution_count": 34,
   "id": "3756d997",
   "metadata": {},
   "outputs": [
    {
     "name": "stdout",
     "output_type": "stream",
     "text": [
      "Enter a to add\n",
      "Enter s to subtract\n",
      "Enter m to multiply\n",
      "Enter d to divide\n",
      "enter your choice\n"
     ]
    },
    {
     "name": "stdout",
     "output_type": "stream",
     "text": [
      "enter first number\n",
      "yoou entered: 14.0\n",
      "enter second number\n",
      "you entered : 25.0\n",
      "subtracting\n",
      "Result: -11.0\n"
     ]
    }
   ],
   "source": [
    "# calculator\n",
    "\n",
    "print(\"Enter a to add\")\n",
    "print(\"Enter s to subtract\")\n",
    "print(\"Enter m to multiply\")\n",
    "print(\"Enter d to divide\")\n",
    "\n",
    "print(\"enter your choice\")\n",
    "operation = input(\"Enter operation: \")\n",
    "\n",
    "print(\"enter first number\")\n",
    "num1 = float(input(\"Enter first number: \"))\n",
    "print(f\"yoou entered: {num1}\")\n",
    "\n",
    "print(\"enter second number\")\n",
    "num2 = float(input(\"Enter second number: \"))\n",
    "print(f\"you entered : {num2}\")\n",
    "\n",
    "# Perform calculation based on operation\n",
    "if operation == \"a\":\n",
    "    print(\"adding..\")\n",
    "    result = num1 + num2\n",
    "    print(\"Result:\", result)\n",
    "elif operation == \"s\":\n",
    "    print(\"subtracting\")\n",
    "    result = num1 - num2\n",
    "    print(\"Result:\", result)\n",
    "elif operation == \"m\":\n",
    "    print(\"multiplying\")\n",
    "    result = num1 * num2\n",
    "    print(\"Result:\", result)\n",
    "elif operation == \"d\":\n",
    "    print(\"dividing\")\n",
    "    if num2 != 0:\n",
    "        result = num1 / num2\n",
    "        print(\"Result:\", result)\n",
    "    else:\n",
    "        print(\"Error: Cannot divide by zero.\")\n",
    "else:\n",
    "    print(\"Invalid operation.\")\n"
   ]
  }
 ],
 "metadata": {
  "kernelspec": {
   "display_name": "base",
   "language": "python",
   "name": "python3"
  },
  "language_info": {
   "codemirror_mode": {
    "name": "ipython",
    "version": 3
   },
   "file_extension": ".py",
   "mimetype": "text/x-python",
   "name": "python",
   "nbconvert_exporter": "python",
   "pygments_lexer": "ipython3",
   "version": "3.12.7"
  }
 },
 "nbformat": 4,
 "nbformat_minor": 5
}
